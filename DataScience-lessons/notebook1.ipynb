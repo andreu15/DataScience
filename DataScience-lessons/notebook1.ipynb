{
 "cells": [
  {
   "cell_type": "markdown",
   "metadata": {},
   "source": [
    "# Jupyter notebook Hola"
   ]
  },
  {
   "cell_type": "markdown",
   "metadata": {},
   "source": [
    "Press `H` for more help."
   ]
  },
  {
   "cell_type": "markdown",
   "metadata": {
    "slideshow": {
     "slide_type": "slide"
    }
   },
   "source": [
    "# A crash course on Python kjsxkjsbcjkfor Data Analysis\n",
    "\n",
    "1.\tPython basic programming:\n",
    "    + Python modules or how to extend the instruction set\n",
    "    + Data Types and Operations.\n",
    "    + A program in Python\n",
    "    + A function in Python\n",
    "    + Slicing\n",
    "    + References\n",
    "    + Comprehensions\n",
    "    + Generators\n",
    "    + Objects"
   ]
  },
  {
   "cell_type": "markdown",
   "metadata": {},
   "source": [
    "<div class=\"alert alert-error\"><strong>IPython Installation:</strong> For new users who want to get up and running with minimal effort, we suggest you to download and install Anaconda (http://docs.continuum.io/anaconda/) which provide a setup based on Python 3.6 and 2.7. Anaconda is a free collection of powerful packages for Python that enables large-scale data management, analysis, and visualization for Business Intelligence, Scientific Analysis, Engineering, Machine Learning, and more.\n",
    "</div>"
   ]
  },
  {
   "cell_type": "markdown",
   "metadata": {},
   "source": [
    "<div class=\"alert alert-warning\"><strong>Running Jupyter:</strong> To run Jupyter, \n",
    "\n",
    "<ol>\n",
    "<li> Using the command line, navigate to the directory you want to store notebooks, and </li>\n",
    "<li> start running a notebook server from the command line using the following command: `jupyter notebook`</li>\n",
    "</ol>\n",
    "\n",
    "</div>"
   ]
  },
  {
   "cell_type": "markdown",
   "metadata": {
    "slideshow": {
     "slide_type": "slide"
    }
   },
   "source": [
    "## Python\n",
    "\n",
    "Once you have IPython installed, you are ready to perform all sorts of operations. \n",
    "\n",
    "The software program that you use to invoke operators is called an **interpreter**. You enter your commands as a ‘dialog’ between you and the interpreter. Commands can be entered as part of a script (a text file with a list of commands to perform) or directly at the *cell*. \n",
    "\n",
    "In order to ask to the interpreter what to do, you must **invoke** an operator:"
   ]
  },
  {
   "cell_type": "code",
   "execution_count": 1,
   "metadata": {
    "slideshow": {
     "slide_type": "subslide"
    }
   },
   "outputs": [
    {
     "data": {
      "text/plain": [
       "16"
      ]
     },
     "execution_count": 1,
     "metadata": {},
     "output_type": "execute_result"
    }
   ],
   "source": [
    "3 + 4 + 9"
   ]
  },
  {
   "cell_type": "code",
   "execution_count": 2,
   "metadata": {
    "slideshow": {
     "slide_type": "slide"
    }
   },
   "outputs": [
    {
     "data": {
      "text/plain": [
       "[0, 1, 2, 3, 4, 5, 6, 7, 8, 9]"
      ]
     },
     "execution_count": 2,
     "metadata": {},
     "output_type": "execute_result"
    }
   ],
   "source": [
    "list(range(10))"
   ]
  },
  {
   "cell_type": "markdown",
   "metadata": {
    "slideshow": {
     "slide_type": "slide"
    }
   },
   "source": [
    "It’s helpful to think of the computation carried out by an operator as involving four parts:\n",
    "\n",
    "+ The name of the operator\n",
    "+ The input arguments\n",
    "+ The output value\n",
    "+ Side effects\n",
    "\n",
    "A typical operation takes one or more input arguments and uses the information in these to produce an output value. Along the way, the computer might take some action: display a graph, store a file, make a sound, etc. These actions are called side effects."
   ]
  },
  {
   "cell_type": "markdown",
   "metadata": {},
   "source": [
    "Python is a general-purpose programming language, so when we want to use more specific commands (such as statistical operators or string processing oeprators) we usually need to import them before we can use them. For Scientific Python, one of the most important libraries that we need is numpy (Numerical Python), which can be loaded like this:"
   ]
  },
  {
   "cell_type": "code",
   "execution_count": 72,
   "metadata": {},
   "outputs": [
    {
     "data": {
      "text/plain": [
       "5.0"
      ]
     },
     "execution_count": 72,
     "metadata": {},
     "output_type": "execute_result"
    }
   ],
   "source": [
    "import numpy as np\n",
    "np.sqrt(25)"
   ]
  },
  {
   "cell_type": "code",
   "execution_count": null,
   "metadata": {},
   "outputs": [],
   "source": [
    "np.arange(10)"
   ]
  },
  {
   "cell_type": "code",
   "execution_count": 70,
   "metadata": {},
   "outputs": [
    {
     "name": "stdout",
     "output_type": "stream",
     "text": [
      "Once deleted, variables cannot be recovered. Proceed (y/[n])? y\n"
     ]
    }
   ],
   "source": [
    "%reset"
   ]
  },
  {
   "cell_type": "markdown",
   "metadata": {},
   "source": [
    "Access to the functions, variables and classes of a module depends on the way the module was imported:"
   ]
  },
  {
   "cell_type": "code",
   "execution_count": 73,
   "metadata": {},
   "outputs": [
    {
     "data": {
      "text/plain": [
       "[<matplotlib.lines.Line2D at 0x1a2503baa58>]"
      ]
     },
     "execution_count": 73,
     "metadata": {},
     "output_type": "execute_result"
    },
    {
     "data": {
      "image/png": "[encoded data removed]",
      "text/plain": [
       "<Figure size 432x288 with 1 Axes>"
      ]
     },
     "metadata": {},
     "output_type": "display_data"
    }
   ],
   "source": [
    "import matplotlib.pyplot as plt\n",
    "plt.plot(np.arange(10))"
   ]
  },
  {
   "cell_type": "code",
   "execution_count": 6,
   "metadata": {},
   "outputs": [
    {
     "data": {
      "text/plain": [
       "-1.0"
      ]
     },
     "execution_count": 6,
     "metadata": {},
     "output_type": "execute_result"
    }
   ],
   "source": [
    "import math\n",
    "math.cos(math.pi)"
   ]
  },
  {
   "cell_type": "code",
   "execution_count": 7,
   "metadata": {},
   "outputs": [
    {
     "data": {
      "text/plain": [
       "-1.0"
      ]
     },
     "execution_count": 7,
     "metadata": {},
     "output_type": "execute_result"
    }
   ],
   "source": [
    "import math as m  # import using an alias\n",
    "m.cos(m.pi)"
   ]
  },
  {
   "cell_type": "code",
   "execution_count": 8,
   "metadata": {},
   "outputs": [
    {
     "data": {
      "text/plain": [
       "-1.0"
      ]
     },
     "execution_count": 8,
     "metadata": {},
     "output_type": "execute_result"
    }
   ],
   "source": [
    "from math import cos,pi # import only some functions\n",
    "cos(pi)"
   ]
  },
  {
   "cell_type": "code",
   "execution_count": 9,
   "metadata": {},
   "outputs": [
    {
     "data": {
      "text/plain": [
       "-1.0"
      ]
     },
     "execution_count": 9,
     "metadata": {},
     "output_type": "execute_result"
    }
   ],
   "source": [
    "from math import *   # global import\n",
    "cos(pi)"
   ]
  },
  {
   "cell_type": "markdown",
   "metadata": {},
   "source": [
    "Often the value returned by an operation will be used later on. Values can be stored for later use with the **assignment operator**:"
   ]
  },
  {
   "cell_type": "code",
   "execution_count": 10,
   "metadata": {},
   "outputs": [],
   "source": [
    "a = 101"
   ]
  },
  {
   "cell_type": "markdown",
   "metadata": {},
   "source": [
    "The command has stored the value 101 under the name <code>a</code>. Such stored values are called **objects**. \n",
    "\n",
    "Making an assignment to an object defines the object. Once an object has been defined, it can be referred to and used in later computations. \n",
    "\n",
    "To refer to the value stored in the object, just use the object’s name itself. For instance:"
   ]
  },
  {
   "cell_type": "code",
   "execution_count": 11,
   "metadata": {},
   "outputs": [
    {
     "data": {
      "text/plain": [
       "10.04987562112089"
      ]
     },
     "execution_count": 11,
     "metadata": {},
     "output_type": "execute_result"
    }
   ],
   "source": [
    "b = np.sqrt(a)\n",
    "b"
   ]
  },
  {
   "cell_type": "markdown",
   "metadata": {},
   "source": [
    "There are some general rules for object names:\n",
    "\n",
    "+ Use only letters and numbers and ‘underscores’ (_)\n",
    "+ Do NOT use spaces anywhere in the name\n",
    "+ A number cannot be the first character in the name\n",
    "+ Capital letters are treated as distinct from lower-case letters (i.e., Python is case-sensitive)"
   ]
  },
  {
   "cell_type": "code",
   "execution_count": 12,
   "metadata": {},
   "outputs": [
    {
     "ename": "SyntaxError",
     "evalue": "invalid syntax (<ipython-input-12-f986eee6e224>, line 1)",
     "output_type": "error",
     "traceback": [
      "\u001b[1;36m  File \u001b[1;32m\"<ipython-input-12-f986eee6e224>\"\u001b[1;36m, line \u001b[1;32m1\u001b[0m\n\u001b[1;33m    3a = 10\u001b[0m\n\u001b[1;37m     ^\u001b[0m\n\u001b[1;31mSyntaxError\u001b[0m\u001b[1;31m:\u001b[0m invalid syntax\n"
     ]
    }
   ],
   "source": [
    "3a = 10"
   ]
  },
  {
   "cell_type": "markdown",
   "metadata": {},
   "source": [
    "When you assign a new value to an existing object (*dynamic typing*), the former values of that object is erased from the computer memory. The former value of b was 10.0498756211, but after a new assignment:"
   ]
  },
  {
   "cell_type": "code",
   "execution_count": 13,
   "metadata": {},
   "outputs": [
    {
     "name": "stdout",
     "output_type": "stream",
     "text": [
      "a\n"
     ]
    }
   ],
   "source": [
    "b = 'a'\n",
    "print(b)"
   ]
  },
  {
   "cell_type": "markdown",
   "metadata": {},
   "source": [
    "The value of an object is changed only via the assignment operator. Using an object in a computation does not change the value. "
   ]
  },
  {
   "cell_type": "markdown",
   "metadata": {},
   "source": [
    "The brilliant thing about organizing operators in terms of input arguments and output values is that the output of one operator can be used as an input to another. This lets complicated computations be built out of simpler ones.\n",
    "\n",
    "One way to connect the computations is by using objects to store the intermediate outputs:"
   ]
  },
  {
   "cell_type": "code",
   "execution_count": 14,
   "metadata": {},
   "outputs": [
    {
     "data": {
      "text/plain": [
       "array([0.        , 1.        , 1.41421356, 1.73205081, 2.        ])"
      ]
     },
     "execution_count": 14,
     "metadata": {},
     "output_type": "execute_result"
    }
   ],
   "source": [
    "a = np.arange(5)\n",
    "np.sqrt(a)"
   ]
  },
  {
   "cell_type": "markdown",
   "metadata": {},
   "source": [
    "You can also pass the output of an operator directly as an argument to another operator:"
   ]
  },
  {
   "cell_type": "code",
   "execution_count": 15,
   "metadata": {},
   "outputs": [
    {
     "data": {
      "text/plain": [
       "array([0.        , 1.        , 1.41421356, 1.73205081, 2.        ])"
      ]
     },
     "execution_count": 15,
     "metadata": {},
     "output_type": "execute_result"
    }
   ],
   "source": [
    "np.sqrt(np.arange(5))"
   ]
  },
  {
   "cell_type": "markdown",
   "metadata": {},
   "source": [
    "<div class=\"alert alert-success\">\n",
    "<strong>EXERCISE:</strong> Create a code that adds the numbers of a list of numbers. \n",
    "\n",
    "<ol>\n",
    "<li> The list has only even numbers from 0 to a parameter N </li>\n",
    "</ol>\n",
    "\n",
    "</div>"
   ]
  },
  {
   "cell_type": "code",
   "execution_count": 17,
   "metadata": {},
   "outputs": [
    {
     "data": {
      "text/plain": [
       "10"
      ]
     },
     "execution_count": 17,
     "metadata": {},
     "output_type": "execute_result"
    }
   ],
   "source": [
    "list_sum = 0\n",
    "for elem in a:\n",
    "    list_sum += elem\n",
    "list_sum"
   ]
  },
  {
   "cell_type": "code",
   "execution_count": 18,
   "metadata": {},
   "outputs": [
    {
     "data": {
      "text/plain": [
       "10"
      ]
     },
     "execution_count": 18,
     "metadata": {},
     "output_type": "execute_result"
    }
   ],
   "source": [
    "sum(a)"
   ]
  },
  {
   "cell_type": "markdown",
   "metadata": {},
   "source": [
    "### Data Types\n",
    "\n",
    "Most of the examples used so far have dealt with numbers. But computers work with other kinds of information as well: text, photographs, sounds, sets of data, and so on. The word *type* is used to refer to the kind of information. \n",
    "\n",
    "It’s important to know about the types of data because operators expect their input arguments to be of specific types. When you use the wrong type of input, the computer might not be able to process your command."
   ]
  },
  {
   "cell_type": "markdown",
   "metadata": {},
   "source": [
    "For our purposes, it’s important to distinguish among several basic types:\n",
    "\n",
    "+ Numeric (positive and negative) data: \n",
    "    + decimal and fractional numbers (**floats**), <code>a = 3.5</code>\n",
    "    + whole numbers (**integers**), <code> b = -12560</code>, and \n",
    "    + arbitrary length whole numbers (**longs**):  <code>c=1809109863596239561236235625629561L</code>\n",
    "+ **Strings** of textual data - you indicate string data to the computer by enclosing the text in quotation marks (e.g., <code>name = \"python\"</code>).\n",
    "+ **Boolean** data: <code>a = True</code> or <code>a = False</code>.\n",
    "+ **Complex** numbers: <code>a = 2+3j</code>\n",
    "+ Sequence types: **tuples, lists, sets, dictionaries** and **files**."
   ]
  },
  {
   "cell_type": "code",
   "execution_count": 19,
   "metadata": {},
   "outputs": [],
   "source": [
    "a = 10"
   ]
  },
  {
   "cell_type": "code",
   "execution_count": 20,
   "metadata": {},
   "outputs": [
    {
     "name": "stdout",
     "output_type": "stream",
     "text": [
      "a\n"
     ]
    }
   ],
   "source": [
    "a = 'a'\n",
    "print(a)"
   ]
  },
  {
   "cell_type": "markdown",
   "metadata": {},
   "source": [
    "### Operators\n",
    "\n",
    "+ Addition (also string, tuple and list concatenation) <code>a + b</code>\n",
    "+ Subtraction (also set difference): <code>a - b</code>\n",
    "+ Multiplication (also string, tuple and list replication): <code>a * b</code>\n",
    "+ Division: <code>a / b</code>\n",
    "+ Truncated integer division (rounded towards minus infinity): <code>a // b</code>\n",
    "+ Modulus or remainder: <code>a % b</code>\n",
    "+ Exponentiation: <code>a ** b</code>\n",
    "+ Assignment: <code>=</code>, <code>-=</code>, <code>+=</code>,<code>/=</code>,<code>*=</code>, <code>%=</code>, <code>//=</code>, <code>**=</code>\n",
    "+ Boolean comparisons: <code>==</code>, <code>!=</code>, <code><</code>,<code>></code>,<code><=</code>, <code>>=</code>\n",
    "+ Boolean operators: <code>and</code>, <code>or</code>, <code>not</code>\n",
    "+ Membership test operators: <code>in</code>, <code>not in</code>\n",
    "+ Object identity operators: <code>is</code>, <code>is not</code>\n",
    "+ Bitwise operators (or, xor, and, complement): <code>|</code>, <code>^</code>, <code>&</code>, <code>~</code>\n",
    "+ Left and right bit shift: <code><<</code>, <code>>></code>"
   ]
  },
  {
   "cell_type": "markdown",
   "metadata": {},
   "source": [
    "### Python as a calculator\n",
    "\n",
    "The Python language has a concise notation for arithmetic that looks very much like the traditional one."
   ]
  },
  {
   "cell_type": "code",
   "execution_count": 21,
   "metadata": {},
   "outputs": [
    {
     "name": "stdout",
     "output_type": "stream",
     "text": [
      "5 -28.0 1.6666666666666667 1.6666666666666667\n"
     ]
    }
   ],
   "source": [
    "a = 3+2\n",
    "b= 3.5 * -8\n",
    "c = 10/6\n",
    "print (a, b, c, 10./6.)"
   ]
  },
  {
   "cell_type": "markdown",
   "metadata": {},
   "source": [
    "Some math functions are not available in the basic Python module, and they need to be imported from a specific module:"
   ]
  },
  {
   "cell_type": "code",
   "execution_count": 22,
   "metadata": {},
   "outputs": [
    {
     "name": "stdout",
     "output_type": "stream",
     "text": [
      "5.635227012480034\n"
     ]
    }
   ],
   "source": [
    "import math   # this instruction is not executed if the module has already been imported\n",
    "print (math.pi + math.sin(100) + math.ceil(2.3))"
   ]
  },
  {
   "cell_type": "markdown",
   "metadata": {},
   "source": [
    "### A program in Python\n",
    "\n",
    "General Rules:\n",
    "\n",
    "+ All text from a <code>#</code> symbol to the end of a line are considered as comments.\n",
    "+ Code must be **indented** and sometimes delineated by colons. The Python standard for indentation is four spaces. Never use tabs: it can produce hard to find errors. Set you editor to convert tabs to spaces.\n",
    "+ Typically, a statement must be on a line. You can use a backslash <code>\\</code> at the end of a line to continue a statement on to the next line.\n"
   ]
  },
  {
   "cell_type": "code",
   "execution_count": 23,
   "metadata": {},
   "outputs": [
    {
     "name": "stdout",
     "output_type": "stream",
     "text": [
      "93326215443944152681699238856266700490715968264381621468592963895217599993229915608941463976156518286253697920827223758251185210916864000000000000000000000000\n"
     ]
    }
   ],
   "source": [
    "# This program computes the factorial of 100.\n",
    "\n",
    "fact = 1\n",
    "n= 100\n",
    "for factor in range(n,0,-1):\n",
    "    fact = fact * factor \n",
    "print(fact)"
   ]
  },
  {
   "cell_type": "code",
   "execution_count": 24,
   "metadata": {},
   "outputs": [
    {
     "data": {
      "text/plain": [
       "[10, 9, 8, 7, 6, 5, 4, 3, 2, 1]"
      ]
     },
     "execution_count": 24,
     "metadata": {},
     "output_type": "execute_result"
    }
   ],
   "source": [
    "list(range(10,0,-1))"
   ]
  },
  {
   "cell_type": "markdown",
   "metadata": {},
   "source": [
    "<div class=\"alert alert-error\"> When we write a colon at the end of an iteration, all lines indented at the next level are considered *part* of the iteration. \n",
    "\n",
    "When we write a line at the same indentation as the iteration, we are closing the iteration.</div>"
   ]
  },
  {
   "cell_type": "markdown",
   "metadata": {},
   "source": [
    "### A function in Python\n",
    "\n"
   ]
  },
  {
   "cell_type": "markdown",
   "metadata": {},
   "source": [
    "#### Factorial\n",
    "\n",
    "The factorial of a non-negative integer $n$, denoted by $n!$, is the product of all positive integers less than or equal to $n$.  "
   ]
  },
  {
   "cell_type": "code",
   "execution_count": 25,
   "metadata": {},
   "outputs": [],
   "source": [
    "def factorial(n):\n",
    "    fact = 1\n",
    "    for factor in range(n,0,-1):\n",
    "        fact = fact * factor\n",
    "    return fact"
   ]
  },
  {
   "cell_type": "code",
   "execution_count": 26,
   "metadata": {},
   "outputs": [
    {
     "data": {
      "text/plain": [
       "93326215443944152681699238856266700490715968264381621468592963895217599993229915608941463976156518286253697920827223758251185210916864000000000000000000000000"
      ]
     },
     "execution_count": 26,
     "metadata": {},
     "output_type": "execute_result"
    }
   ],
   "source": [
    "factorial(n)"
   ]
  },
  {
   "cell_type": "markdown",
   "metadata": {},
   "source": [
    "#### Fibonacci\n",
    "\n",
    "The Fibonacci Sequence is the series of numbers: 0, 1, 1, 2, 3, 5, 8, 13, 21, 34, ...\n",
    "\n",
    "The general rule to compute the sequence is very simple: The next number is found by adding up the two numbers before it."
   ]
  },
  {
   "cell_type": "code",
   "execution_count": 27,
   "metadata": {},
   "outputs": [
    {
     "data": {
      "text/plain": [
       "6765"
      ]
     },
     "execution_count": 27,
     "metadata": {},
     "output_type": "execute_result"
    }
   ],
   "source": [
    "def fib1(n):\n",
    "    if n==1:\n",
    "        return 1\n",
    "    if n==0:\n",
    "        return 0\n",
    "    return fib1(n-1) + fib1(n-2)\n",
    "\n",
    "fib1(20)\n",
    "\n",
    "# this function cannot compute fib(100)"
   ]
  },
  {
   "cell_type": "code",
   "execution_count": 28,
   "metadata": {},
   "outputs": [
    {
     "name": "stdout",
     "output_type": "stream",
     "text": [
      "43466557686937456435688527675040625802564660517371780402481729089536555417949051890403879840079255169295922593080322634775209689623239873322471161642996440906533187938298969649928516003704476137795166849228875\n"
     ]
    }
   ],
   "source": [
    "def fib2(n):\n",
    "    a, b = 0, 1\n",
    "    for i in range(1,n+1):\n",
    "        a, b = b, a + b\n",
    "    return a\n",
    "\n",
    "n = 1000\n",
    "if n<15:\n",
    "    print(fib1(n))\n",
    "else: \n",
    "    print(fib2(n))"
   ]
  },
  {
   "cell_type": "markdown",
   "metadata": {},
   "source": [
    "#### Greatest Common Divisor\n",
    "\n",
    "The greatest common divisor of two positive integers $a$ and $b$ is the largest divisor common to $a$ and $b$.  The Euclidean algorithm, or Euclid's algorithm, is an interative method for computing the greatest common divisor of two integers. \n",
    "\n",
    "+ If $a<b$, exchange $a$ and $b$.\n",
    "+ Divide $a$ by $b$ and get the remainder, $r$. If $r=0$, report $b$ as the GCD of $a$ and $b$.\n",
    "+ Replace $a$ by $b$ and replace $b$ by $r$. If $r \\neq 0$ iterate.\n",
    "\n"
   ]
  },
  {
   "cell_type": "code",
   "execution_count": 29,
   "metadata": {},
   "outputs": [
    {
     "data": {
      "text/plain": [
       "4"
      ]
     },
     "execution_count": 29,
     "metadata": {},
     "output_type": "execute_result"
    }
   ],
   "source": [
    "def gcd(a,b): # Euclides algorithm v1.0: pseudocode translation\n",
    "    r = 1\n",
    "    while r != 0:\n",
    "        if a<b:\n",
    "            c=a\n",
    "            a=b\n",
    "            b=c\n",
    "        r = a%b \n",
    "        if r == 0:\n",
    "            return b\n",
    "        else:\n",
    "            a = b\n",
    "            b = r\n",
    "\n",
    "gcd(100,16)"
   ]
  },
  {
   "cell_type": "code",
   "execution_count": 30,
   "metadata": {},
   "outputs": [
    {
     "data": {
      "text/plain": [
       "4"
      ]
     },
     "execution_count": 30,
     "metadata": {},
     "output_type": "execute_result"
    }
   ],
   "source": [
    "def gcd(a,b):   # Euclides algorithm v2.0: idiomatic Python\n",
    "    while a:\n",
    "        a, b = b%a, a\n",
    "    return b\n",
    "\n",
    "gcd(100,16)"
   ]
  },
  {
   "cell_type": "code",
   "execution_count": 31,
   "metadata": {},
   "outputs": [
    {
     "data": {
      "text/plain": [
       "True"
      ]
     },
     "execution_count": 31,
     "metadata": {},
     "output_type": "execute_result"
    }
   ],
   "source": [
    "a = 0\n",
    "a == False"
   ]
  },
  {
   "cell_type": "markdown",
   "metadata": {},
   "source": [
    "<div class=\"alert alert-success\">\n",
    "<strong>EXERCISE:</strong> Create a function that given k plots the <i>sigmoid</i> equation\n",
    "\n",
    "$$f(x,k) = \\frac{1-e^{-kx}}{1+e^{-kx}}$$\n",
    "\n",
    "in the domain [-10,10], with precission 0.01.\n",
    "</div>"
   ]
  },
  {
   "cell_type": "code",
   "execution_count": 47,
   "metadata": {},
   "outputs": [],
   "source": [
    "def plot_sig(k):\n",
    "    x = np.arange(-11, 11, 0.01)\n",
    "    plt.plot(x, (1-(math.e ** (-k*x)))/(1+(math.e ** (-k*x))))\n",
    "    \n",
    "    return 0"
   ]
  },
  {
   "cell_type": "code",
   "execution_count": 48,
   "metadata": {},
   "outputs": [
    {
     "data": {
      "text/plain": [
       "0"
      ]
     },
     "execution_count": 48,
     "metadata": {},
     "output_type": "execute_result"
    },
    {
     "data": {
      "image/png": "[encoded data removed]",
      "text/plain": [
       "<Figure size 432x288 with 1 Axes>"
      ]
     },
     "metadata": {},
     "output_type": "display_data"
    }
   ],
   "source": [
    "plot_sig(2)"
   ]
  },
  {
   "cell_type": "markdown",
   "metadata": {},
   "source": [
    "### String processing with Python\n",
    "\n",
    "Strings are list of characters:"
   ]
  },
  {
   "cell_type": "code",
   "execution_count": 49,
   "metadata": {},
   "outputs": [
    {
     "data": {
      "text/plain": [
       "str"
      ]
     },
     "execution_count": 49,
     "metadata": {},
     "output_type": "execute_result"
    }
   ],
   "source": [
    "a = 'python'\n",
    "type(a)"
   ]
  },
  {
   "cell_type": "code",
   "execution_count": 50,
   "metadata": {},
   "outputs": [
    {
     "name": "stdout",
     "output_type": "stream",
     "text": [
      "Hello\n"
     ]
    }
   ],
   "source": [
    "print(\"Hello\")"
   ]
  },
  {
   "cell_type": "code",
   "execution_count": 51,
   "metadata": {},
   "outputs": [
    {
     "name": "stdout",
     "output_type": "stream",
     "text": [
      "This is 'an example' of the use of quotes and double quotes\n",
      "This is \"another example\" of the use of quotes and double quotes\n"
     ]
    }
   ],
   "source": [
    "print(\"This is 'an example' of the use of quotes and double quotes\")\n",
    "print('This is \"another example\" of the use of quotes and double quotes')"
   ]
  },
  {
   "cell_type": "markdown",
   "metadata": {},
   "source": [
    "We can use the operator ``+`` to concatenate strings:"
   ]
  },
  {
   "cell_type": "code",
   "execution_count": 52,
   "metadata": {},
   "outputs": [
    {
     "name": "stdout",
     "output_type": "stream",
     "text": [
      "Hello!\n"
     ]
    }
   ],
   "source": [
    "a = 'He'\n",
    "b = 'llo'\n",
    "c = a+b+'!'\n",
    "print(c)"
   ]
  },
  {
   "cell_type": "markdown",
   "metadata": {},
   "source": [
    "Substrings within a string can be accessed using **slicing**. Slicing uses ``[]`` to contain the indices of the characters in a string, where the first index is $0$, and the last is $n - 1$ (assuming the string has $n$ characters). "
   ]
  },
  {
   "cell_type": "code",
   "execution_count": 53,
   "metadata": {},
   "outputs": [
    {
     "name": "stdout",
     "output_type": "stream",
     "text": [
      "Python y thon Pyt th Pto yhn\n"
     ]
    }
   ],
   "source": [
    "a = 'Python'\n",
    "print (a[:], a[1], a[2:], a[:3], a[2:4], a[::2], a[1::2])"
   ]
  },
  {
   "cell_type": "markdown",
   "metadata": {},
   "source": [
    "The most advanced string functiona are stored in an external module called ``string``"
   ]
  },
  {
   "cell_type": "code",
   "execution_count": 54,
   "metadata": {},
   "outputs": [
    {
     "name": "stdout",
     "output_type": "stream",
     "text": [
      "Help on module string:\n",
      "\n",
      "NAME\n",
      "    string - A collection of string constants.\n",
      "\n",
      "DESCRIPTION\n",
      "    Public module variables:\n",
      "    \n",
      "    whitespace -- a string containing all ASCII whitespace\n",
      "    ascii_lowercase -- a string containing all ASCII lowercase letters\n",
      "    ascii_uppercase -- a string containing all ASCII uppercase letters\n",
      "    ascii_letters -- a string containing all ASCII letters\n",
      "    digits -- a string containing all ASCII decimal digits\n",
      "    hexdigits -- a string containing all ASCII hexadecimal digits\n",
      "    octdigits -- a string containing all ASCII octal digits\n",
      "    punctuation -- a string containing all ASCII punctuation characters\n",
      "    printable -- a string containing all ASCII characters considered printable\n",
      "\n",
      "CLASSES\n",
      "    builtins.object\n",
      "        Formatter\n",
      "        Template\n",
      "    \n",
      "    class Formatter(builtins.object)\n",
      "     |  Methods defined here:\n",
      "     |  \n",
      "     |  check_unused_args(self, used_args, args, kwargs)\n",
      "     |  \n",
      "     |  convert_field(self, value, conversion)\n",
      "     |  \n",
      "     |  format(*args, **kwargs)\n",
      "     |  \n",
      "     |  format_field(self, value, format_spec)\n",
      "     |  \n",
      "     |  get_field(self, field_name, args, kwargs)\n",
      "     |      # given a field_name, find the object it references.\n",
      "     |      #  field_name:   the field being looked up, e.g. \"0.name\"\n",
      "     |      #                 or \"lookup[3]\"\n",
      "     |      #  used_args:    a set of which args have been used\n",
      "     |      #  args, kwargs: as passed in to vformat\n",
      "     |  \n",
      "     |  get_value(self, key, args, kwargs)\n",
      "     |  \n",
      "     |  parse(self, format_string)\n",
      "     |      # returns an iterable that contains tuples of the form:\n",
      "     |      # (literal_text, field_name, format_spec, conversion)\n",
      "     |      # literal_text can be zero length\n",
      "     |      # field_name can be None, in which case there's no\n",
      "     |      #  object to format and output\n",
      "     |      # if field_name is not None, it is looked up, formatted\n",
      "     |      #  with format_spec and conversion and then used\n",
      "     |  \n",
      "     |  vformat(self, format_string, args, kwargs)\n",
      "     |  \n",
      "     |  ----------------------------------------------------------------------\n",
      "     |  Data descriptors defined here:\n",
      "     |  \n",
      "     |  __dict__\n",
      "     |      dictionary for instance variables (if defined)\n",
      "     |  \n",
      "     |  __weakref__\n",
      "     |      list of weak references to the object (if defined)\n",
      "    \n",
      "    class Template(builtins.object)\n",
      "     |  A string class for supporting $-substitutions.\n",
      "     |  \n",
      "     |  Methods defined here:\n",
      "     |  \n",
      "     |  __init__(self, template)\n",
      "     |      Initialize self.  See help(type(self)) for accurate signature.\n",
      "     |  \n",
      "     |  safe_substitute(*args, **kws)\n",
      "     |  \n",
      "     |  substitute(*args, **kws)\n",
      "     |  \n",
      "     |  ----------------------------------------------------------------------\n",
      "     |  Data descriptors defined here:\n",
      "     |  \n",
      "     |  __dict__\n",
      "     |      dictionary for instance variables (if defined)\n",
      "     |  \n",
      "     |  __weakref__\n",
      "     |      list of weak references to the object (if defined)\n",
      "     |  \n",
      "     |  ----------------------------------------------------------------------\n",
      "     |  Data and other attributes defined here:\n",
      "     |  \n",
      "     |  delimiter = '$'\n",
      "     |  \n",
      "     |  flags = <RegexFlag.IGNORECASE: 2>\n",
      "     |  \n",
      "     |  idpattern = '(?-i:[_a-zA-Z][_a-zA-Z0-9]*)'\n",
      "     |  \n",
      "     |  pattern = re.compile('\\n    \\\\$(?:\\n      (?P<escaped>\\\\$)...(?P<brace...\n",
      "\n",
      "FUNCTIONS\n",
      "    capwords(s, sep=None)\n",
      "        capwords(s [,sep]) -> string\n",
      "        \n",
      "        Split the argument into words using split, capitalize each\n",
      "        word using capitalize, and join the capitalized words using\n",
      "        join.  If the optional second argument sep is absent or None,\n",
      "        runs of whitespace characters are replaced by a single space\n",
      "        and leading and trailing whitespace are removed, otherwise\n",
      "        sep is used to split and join the words.\n",
      "\n",
      "DATA\n",
      "    __all__ = ['ascii_letters', 'ascii_lowercase', 'ascii_uppercase', 'cap...\n",
      "    ascii_letters = 'abcdefghijklmnopqrstuvwxyzABCDEFGHIJKLMNOPQRSTUVWXYZ'\n",
      "    ascii_lowercase = 'abcdefghijklmnopqrstuvwxyz'\n",
      "    ascii_uppercase = 'ABCDEFGHIJKLMNOPQRSTUVWXYZ'\n",
      "    digits = '0123456789'\n",
      "    hexdigits = '0123456789abcdefABCDEF'\n",
      "    octdigits = '01234567'\n",
      "    printable = '0123456789abcdefghijklmnopqrstuvwxyzABCDEFGHIJKLMNOPQRSTU...\n",
      "    punctuation = '!\"#$%&\\'()*+,-./:;<=>?@[\\\\]^_`{|}~'\n",
      "    whitespace = ' \\t\\n\\r\\x0b\\x0c'\n",
      "\n",
      "FILE\n",
      "    c:\\users\\andreu\\anaconda3\\lib\\string.py\n",
      "\n",
      "\n"
     ]
    }
   ],
   "source": [
    "import string as st\n",
    "help(st)"
   ]
  },
  {
   "cell_type": "code",
   "execution_count": 55,
   "metadata": {},
   "outputs": [
    {
     "data": {
      "text/plain": [
       "float"
      ]
     },
     "execution_count": 55,
     "metadata": {},
     "output_type": "execute_result"
    }
   ],
   "source": [
    "type(float('10.3'))"
   ]
  },
  {
   "cell_type": "code",
   "execution_count": 56,
   "metadata": {},
   "outputs": [
    {
     "data": {
      "text/plain": [
       "12.3"
      ]
     },
     "execution_count": 56,
     "metadata": {},
     "output_type": "execute_result"
    }
   ],
   "source": [
    "float('10.3')+2"
   ]
  },
  {
   "cell_type": "code",
   "execution_count": 57,
   "metadata": {},
   "outputs": [],
   "source": [
    "a = 'a'"
   ]
  },
  {
   "cell_type": "code",
   "execution_count": 58,
   "metadata": {},
   "outputs": [
    {
     "ename": "SyntaxError",
     "evalue": "invalid syntax (<ipython-input-58-745ade49529d>, line 2)",
     "output_type": "error",
     "traceback": [
      "\u001b[1;36m  File \u001b[1;32m\"<ipython-input-58-745ade49529d>\"\u001b[1;36m, line \u001b[1;32m2\u001b[0m\n\u001b[1;33m    a.\u001b[0m\n\u001b[1;37m      ^\u001b[0m\n\u001b[1;31mSyntaxError\u001b[0m\u001b[1;31m:\u001b[0m invalid syntax\n"
     ]
    }
   ],
   "source": [
    "# press tab\n",
    "a."
   ]
  },
  {
   "cell_type": "code",
   "execution_count": 59,
   "metadata": {},
   "outputs": [
    {
     "name": "stdout",
     "output_type": "stream",
     "text": [
      "hello\n"
     ]
    }
   ],
   "source": [
    "a='Hello'\n",
    "b = a.lower()\n",
    "print(b)"
   ]
  },
  {
   "cell_type": "code",
   "execution_count": 60,
   "metadata": {},
   "outputs": [
    {
     "name": "stdout",
     "output_type": "stream",
     "text": [
      "abcdefghijklmnopqrstuvwxyzABCDEFGHIJKLMNOPQRSTUVWXYZ\n"
     ]
    },
    {
     "data": {
      "text/plain": [
       "True"
      ]
     },
     "execution_count": 60,
     "metadata": {},
     "output_type": "execute_result"
    }
   ],
   "source": [
    "print(st.ascii_letters)\n",
    "'a' in st.ascii_letters"
   ]
  },
  {
   "cell_type": "markdown",
   "metadata": {},
   "source": [
    "<div class=\"alert alert-success\">\n",
    "<strong>EXERCISE:</strong> Compute the set of bigrams of a string. (``'hola'->'ho'+'ol'+'la'``) \n",
    "</div>"
   ]
  },
  {
   "cell_type": "code",
   "execution_count": 65,
   "metadata": {},
   "outputs": [],
   "source": [
    "def compute_bigrams(word):\n",
    "    for i in range(0, len(word)-1):\n",
    "        print(word[i:i+2])\n",
    "        \n",
    "    return len(word)-1\n",
    "    "
   ]
  },
  {
   "cell_type": "code",
   "execution_count": 67,
   "metadata": {},
   "outputs": [
    {
     "name": "stdout",
     "output_type": "stream",
     "text": [
      "he\n",
      "el\n",
      "ll\n",
      "lo\n"
     ]
    },
    {
     "data": {
      "text/plain": [
       "4"
      ]
     },
     "execution_count": 67,
     "metadata": {},
     "output_type": "execute_result"
    }
   ],
   "source": [
    "compute_bigrams('hello')"
   ]
  },
  {
   "cell_type": "markdown",
   "metadata": {},
   "source": [
    "### Lists\n",
    "\n",
    "Lists are a built-in data type which require other data types to be useful. A list is a collection of other objects – floats, integers, complex numbers, strings or even other lists.\n",
    "\n",
    "Lists also support slicing to retrieve one or more elements. Basic lists are constructed using square braces, ``[]``, and values are separated using\n",
    "commas."
   ]
  },
  {
   "cell_type": "code",
   "execution_count": 74,
   "metadata": {},
   "outputs": [
    {
     "data": {
      "text/plain": [
       "list"
      ]
     },
     "execution_count": 74,
     "metadata": {},
     "output_type": "execute_result"
    }
   ],
   "source": [
    "l=[]\n",
    "type(l)"
   ]
  },
  {
   "cell_type": "code",
   "execution_count": 75,
   "metadata": {},
   "outputs": [
    {
     "name": "stdout",
     "output_type": "stream",
     "text": [
      "[[1, 2, 3, 4], 'oriol'] 1 oriol\n"
     ]
    }
   ],
   "source": [
    "x=[1,2.,3,4,[1,2,3,4],'oriol']\n",
    "print(x[4:], x[0], x[5])"
   ]
  },
  {
   "cell_type": "code",
   "execution_count": 76,
   "metadata": {},
   "outputs": [
    {
     "data": {
      "text/plain": [
       "[[1, 2, 3, 4], 'oriol']"
      ]
     },
     "execution_count": 76,
     "metadata": {},
     "output_type": "execute_result"
    }
   ],
   "source": [
    "x[-2:]  # The stride can also be negative which can be used to select the\n",
    "        # elements of a list in reverse order."
   ]
  },
  {
   "cell_type": "markdown",
   "metadata": {},
   "source": [
    "Lists can be multidimensional and slicing can be done directly in higher dimensions:"
   ]
  },
  {
   "cell_type": "code",
   "execution_count": 77,
   "metadata": {},
   "outputs": [
    {
     "name": "stdout",
     "output_type": "stream",
     "text": [
      "[1, 2, 3, 4] 1 [1, 2]\n"
     ]
    }
   ],
   "source": [
    "x = [[1,2,3,4], [5,6,7,8]]\n",
    "print(x[0], x[0][0], x[0][0:2])"
   ]
  },
  {
   "cell_type": "markdown",
   "metadata": {},
   "source": [
    "### Help: Python Tutorial"
   ]
  },
  {
   "cell_type": "code",
   "execution_count": 78,
   "metadata": {},
   "outputs": [
    {
     "data": {
      "text/html": [
       "<iframe src=http://docs.python.org/3/tutorial/index.html?useformat=mobile width=780 height=350></iframe>"
      ],
      "text/plain": [
       "<IPython.core.display.HTML object>"
      ]
     },
     "execution_count": 78,
     "metadata": {},
     "output_type": "execute_result"
    }
   ],
   "source": [
    "from IPython.display import HTML\n",
    "HTML('<iframe src=http://docs.python.org/3/tutorial/index.html?useformat=mobile width=780 height=350></iframe>')"
   ]
  },
  {
   "cell_type": "markdown",
   "metadata": {},
   "source": [
    "### Conditionals\n",
    "\n",
    "The conditional structure in Python is <code>If</code>. It is usally combined with \n",
    "relational operators: <code> <, <=, ==, >=, >, != </code>."
   ]
  },
  {
   "cell_type": "code",
   "execution_count": 79,
   "metadata": {},
   "outputs": [
    {
     "name": "stdout",
     "output_type": "stream",
     "text": [
      "The temperature in Fahrenheit is 95.0\n",
      "It's really hot out there.\n"
     ]
    }
   ],
   "source": [
    "def main(celsius):\n",
    "    fahrenheit = 9.0 /5.0 * celsius + 32\n",
    "    print(\"The temperature in Fahrenheit is\", fahrenheit)\n",
    "    if fahrenheit > 90:\n",
    "        print(\"It's really hot out there.\")\n",
    "    elif fahrenheit < 30:\n",
    "        print(\"It's really cold out there.\")\n",
    "    else: pass\n",
    "        \n",
    "main(35)"
   ]
  },
  {
   "cell_type": "markdown",
   "metadata": {},
   "source": [
    "``If`` statesments can be combined with loops (``for``, ``while``):"
   ]
  },
  {
   "cell_type": "code",
   "execution_count": 80,
   "metadata": {},
   "outputs": [
    {
     "name": "stdout",
     "output_type": "stream",
     "text": [
      "20\n"
     ]
    }
   ],
   "source": [
    "numbers = [-5, 3,2,-1,9,6]\n",
    "total = 0\n",
    "for n in numbers:\n",
    "    if n >= 0:\n",
    "        total += n\n",
    "print(total)"
   ]
  },
  {
   "cell_type": "code",
   "execution_count": 81,
   "metadata": {},
   "outputs": [
    {
     "data": {
      "text/plain": [
       "2.5"
      ]
     },
     "execution_count": 81,
     "metadata": {},
     "output_type": "execute_result"
    }
   ],
   "source": [
    "def average(a):\n",
    "    sum = 0.0\n",
    "    for i in a:\n",
    "        sum = sum + i\n",
    "    return sum/len(a)\n",
    "\n",
    "average([1,2,3,4])"
   ]
  },
  {
   "cell_type": "code",
   "execution_count": 82,
   "metadata": {},
   "outputs": [
    {
     "name": "stdout",
     "output_type": "stream",
     "text": [
      "4 0\n"
     ]
    }
   ],
   "source": [
    "def sumdif(x,y):\n",
    "    sum, dif = x+y, x-y\n",
    "    return sum, dif\n",
    "\n",
    "a, b = sumdif(2,2)\n",
    "print(a, b)"
   ]
  },
  {
   "cell_type": "code",
   "execution_count": 83,
   "metadata": {},
   "outputs": [
    {
     "data": {
      "text/plain": [
       "3"
      ]
     },
     "execution_count": 83,
     "metadata": {},
     "output_type": "execute_result"
    }
   ],
   "source": [
    "def main(n):\n",
    "    cont = 0\n",
    "    while (int(n) > 0):\n",
    "        cont += 1\n",
    "        n = n/2\n",
    "#        print n\n",
    "    return cont-1\n",
    "\n",
    "main(10)\n",
    "# main(10.3)"
   ]
  },
  {
   "cell_type": "markdown",
   "metadata": {},
   "source": [
    "### Boolean operators.\n"
   ]
  },
  {
   "cell_type": "code",
   "execution_count": 84,
   "metadata": {},
   "outputs": [
    {
     "data": {
      "text/plain": [
       "True"
      ]
     },
     "execution_count": 84,
     "metadata": {},
     "output_type": "execute_result"
    }
   ],
   "source": [
    "a = 4\n",
    "b = 40\n",
    "(a>2) and (b>30)"
   ]
  },
  {
   "cell_type": "code",
   "execution_count": 85,
   "metadata": {},
   "outputs": [
    {
     "data": {
      "text/plain": [
       "True"
      ]
     },
     "execution_count": 85,
     "metadata": {},
     "output_type": "execute_result"
    }
   ],
   "source": [
    "(a>2) or (b>100)"
   ]
  },
  {
   "cell_type": "code",
   "execution_count": 86,
   "metadata": {},
   "outputs": [
    {
     "data": {
      "text/plain": [
       "False"
      ]
     },
     "execution_count": 86,
     "metadata": {},
     "output_type": "execute_result"
    }
   ],
   "source": [
    "not(a>2)"
   ]
  },
  {
   "cell_type": "markdown",
   "metadata": {},
   "source": [
    "### Data Collections\n",
    "\n",
    "We need to represent data collections: words in a text, students in a course, experimental data, etc., or to store intermediate results. The most simple data collection is the <code>list</code> (an ordered sequence of objects):"
   ]
  },
  {
   "cell_type": "code",
   "execution_count": 87,
   "metadata": {},
   "outputs": [
    {
     "data": {
      "text/plain": [
       "[0, 1, 2, 3, 4, 5, 6, 7, 8, 9]"
      ]
     },
     "execution_count": 87,
     "metadata": {},
     "output_type": "execute_result"
    }
   ],
   "source": [
    "list(range(10))"
   ]
  },
  {
   "cell_type": "code",
   "execution_count": 88,
   "metadata": {},
   "outputs": [
    {
     "name": "stdout",
     "output_type": "stream",
     "text": [
      "['This', 'is', 'an', 'example']\n"
     ]
    }
   ],
   "source": [
    "import string\n",
    "b = \"This is an example\"\n",
    "print(b.split())"
   ]
  },
  {
   "cell_type": "markdown",
   "metadata": {},
   "source": [
    "Lists are *mutable, dynamic and non-homogeneous* objects:"
   ]
  },
  {
   "cell_type": "code",
   "execution_count": 89,
   "metadata": {},
   "outputs": [
    {
     "name": "stdout",
     "output_type": "stream",
     "text": [
      "[1, 1, 3, 4]\n"
     ]
    }
   ],
   "source": [
    "a = [1,2,3,4]\n",
    "a[1] = 1\n",
    "print(a)"
   ]
  },
  {
   "cell_type": "code",
   "execution_count": 90,
   "metadata": {},
   "outputs": [
    {
     "name": "stdout",
     "output_type": "stream",
     "text": [
      "[1, 1, 3, 4, 'This', 'is', 'an', 'example']\n"
     ]
    }
   ],
   "source": [
    "c = a + b.split()\n",
    "print(c)"
   ]
  },
  {
   "cell_type": "code",
   "execution_count": 91,
   "metadata": {},
   "outputs": [
    {
     "name": "stdout",
     "output_type": "stream",
     "text": [
      "[0, 0, 0, 0, 0]\n"
     ]
    }
   ],
   "source": [
    "zeroes = [0] * 10\n",
    "del zeroes[5:]\n",
    "print(zeroes)"
   ]
  },
  {
   "cell_type": "code",
   "execution_count": 92,
   "metadata": {},
   "outputs": [
    {
     "name": "stdout",
     "output_type": "stream",
     "text": [
      "[0, 0, 0, 0, 0, 1]\n"
     ]
    }
   ],
   "source": [
    "zeroes.append(1)\n",
    "print(zeroes)"
   ]
  },
  {
   "cell_type": "code",
   "execution_count": 93,
   "metadata": {},
   "outputs": [
    {
     "name": "stdout",
     "output_type": "stream",
     "text": [
      "[0, 0, 0, 0, 0]\n"
     ]
    }
   ],
   "source": [
    "zeroes.remove(1)\n",
    "print(zeroes)"
   ]
  },
  {
   "cell_type": "code",
   "execution_count": 94,
   "metadata": {},
   "outputs": [
    {
     "name": "stdout",
     "output_type": "stream",
     "text": [
      "True\n"
     ]
    }
   ],
   "source": [
    "if 1 in zeroes:\n",
    "    print(False)\n",
    "else: \n",
    "    print(True)"
   ]
  },
  {
   "cell_type": "markdown",
   "metadata": {},
   "source": [
    "### References\n",
    "\n",
    "We can inspect the reference of an object:"
   ]
  },
  {
   "cell_type": "code",
   "execution_count": 95,
   "metadata": {},
   "outputs": [
    {
     "name": "stdout",
     "output_type": "stream",
     "text": [
      "1796642675656\n"
     ]
    }
   ],
   "source": [
    "a ='hello'\n",
    "print(id(a))"
   ]
  },
  {
   "cell_type": "markdown",
   "metadata": {},
   "source": [
    "Two different objects:"
   ]
  },
  {
   "cell_type": "code",
   "execution_count": 96,
   "metadata": {},
   "outputs": [
    {
     "name": "stdout",
     "output_type": "stream",
     "text": [
      "1796642260936 1796642259720\n"
     ]
    }
   ],
   "source": [
    "a = [1,2,3]\n",
    "b = [1,2,3]\n",
    "print(id(a), id(b))"
   ]
  },
  {
   "cell_type": "markdown",
   "metadata": {},
   "source": [
    "Object alias:"
   ]
  },
  {
   "cell_type": "code",
   "execution_count": 97,
   "metadata": {},
   "outputs": [
    {
     "name": "stdout",
     "output_type": "stream",
     "text": [
      "1796642259976 1796642259976\n"
     ]
    }
   ],
   "source": [
    "a = [1,2,3]\n",
    "b = a                     # alias\n",
    "print(id(a), id(b))"
   ]
  },
  {
   "cell_type": "markdown",
   "metadata": {},
   "source": [
    "Cloning:"
   ]
  },
  {
   "cell_type": "code",
   "execution_count": 98,
   "metadata": {},
   "outputs": [
    {
     "name": "stdout",
     "output_type": "stream",
     "text": [
      "[1, 2, 3] [1, 2, 3] [2, 3] 1796630073672 1796642528904 1796642262856\n"
     ]
    }
   ],
   "source": [
    "a = [1,2,3]\n",
    "b = a[:]                  # cloning with :\n",
    "\n",
    "print(a, b, b[1:], id(a), id(b), id(b[1:]))"
   ]
  },
  {
   "cell_type": "markdown",
   "metadata": {},
   "source": [
    "When a list is an argument of a function, we are sending the *reference*, not a *copy*"
   ]
  },
  {
   "cell_type": "code",
   "execution_count": 99,
   "metadata": {},
   "outputs": [
    {
     "name": "stdout",
     "output_type": "stream",
     "text": [
      "1 [1, 2, 3, 4]\n"
     ]
    }
   ],
   "source": [
    "def head(list):\n",
    "    return list[0]\n",
    "\n",
    "numbers=[1,2,3,4]\n",
    "print(head(numbers), numbers)"
   ]
  },
  {
   "cell_type": "code",
   "execution_count": 100,
   "metadata": {},
   "outputs": [
    {
     "name": "stdout",
     "output_type": "stream",
     "text": [
      "[0, 2, 3, 4]\n"
     ]
    }
   ],
   "source": [
    "def change_first_element(list):\n",
    "    list[0]=0\n",
    "    \n",
    "numbers=[1,2,3,4]\n",
    "change_first_element(numbers)\n",
    "print(numbers)"
   ]
  },
  {
   "cell_type": "markdown",
   "metadata": {},
   "source": [
    "If we return a list we are returning a reference:"
   ]
  },
  {
   "cell_type": "code",
   "execution_count": 101,
   "metadata": {},
   "outputs": [
    {
     "name": "stdout",
     "output_type": "stream",
     "text": [
      "[2, 3, 4] [1, 2, 3, 4]\n",
      "1796643156552 1796642261832\n"
     ]
    }
   ],
   "source": [
    "def tail(list):\n",
    "    return list[1:]     # we are creating a new list\n",
    "\n",
    "numbers=[1,2,3,4]\n",
    "rest = tail(numbers)\n",
    "print(rest, numbers)\n",
    "print(id(rest), id(numbers))"
   ]
  },
  {
   "cell_type": "code",
   "execution_count": 103,
   "metadata": {},
   "outputs": [
    {
     "ename": "SyntaxError",
     "evalue": "invalid syntax (<ipython-input-103-cfb12d0780d8>, line 2)",
     "output_type": "error",
     "traceback": [
      "\u001b[1;36m  File \u001b[1;32m\"<ipython-input-103-cfb12d0780d8>\"\u001b[1;36m, line \u001b[1;32m2\u001b[0m\n\u001b[1;33m    numbers.\u001b[0m\n\u001b[1;37m            ^\u001b[0m\n\u001b[1;31mSyntaxError\u001b[0m\u001b[1;31m:\u001b[0m invalid syntax\n"
     ]
    }
   ],
   "source": [
    "# Press tab\n",
    "numbers."
   ]
  },
  {
   "cell_type": "markdown",
   "metadata": {},
   "source": [
    "Sometimes it is important to perform a *sanity check* about what is doing a pre-defined function:"
   ]
  },
  {
   "cell_type": "code",
   "execution_count": 102,
   "metadata": {},
   "outputs": [
    {
     "name": "stdout",
     "output_type": "stream",
     "text": [
      "[1, 2, 3, 4] None [1, 2, 3, 4]\n"
     ]
    }
   ],
   "source": [
    "numbers=[1,2,3,4]\n",
    "def test(l):\n",
    "    return l.reverse()\n",
    "\n",
    "test(numbers)\n",
    "print(numbers, numbers.reverse(), numbers)"
   ]
  },
  {
   "cell_type": "markdown",
   "metadata": {},
   "source": [
    "### Dictionaries\n",
    "\n",
    "A dictionary is a collection that allows the access of an *element* by using a *key*:"
   ]
  },
  {
   "cell_type": "code",
   "execution_count": 104,
   "metadata": {},
   "outputs": [
    {
     "data": {
      "text/plain": [
       "'D'"
      ]
     },
     "execution_count": 104,
     "metadata": {},
     "output_type": "execute_result"
    }
   ],
   "source": [
    "dict = {\"d\": \"D\", \"b\":\"B\", \"c\":\"C\"}\n",
    "dict[\"d\"]"
   ]
  },
  {
   "cell_type": "markdown",
   "metadata": {},
   "source": [
    "Dictionaries are **mutable** and **unordered**:"
   ]
  },
  {
   "cell_type": "code",
   "execution_count": 105,
   "metadata": {},
   "outputs": [
    {
     "data": {
      "text/plain": [
       "{'d': 'D', 'b': 'B', 'c': 'C', 'a': 'A'}"
      ]
     },
     "execution_count": 105,
     "metadata": {},
     "output_type": "execute_result"
    }
   ],
   "source": [
    "dict[\"a\"]=\"A\"\n",
    "dict"
   ]
  },
  {
   "cell_type": "code",
   "execution_count": 106,
   "metadata": {},
   "outputs": [
    {
     "data": {
      "text/plain": [
       "True"
      ]
     },
     "execution_count": 106,
     "metadata": {},
     "output_type": "execute_result"
    }
   ],
   "source": [
    "'a' in dict"
   ]
  },
  {
   "cell_type": "code",
   "execution_count": 107,
   "metadata": {},
   "outputs": [
    {
     "name": "stdout",
     "output_type": "stream",
     "text": [
      "{'d': 'D', 'b': 'B', 'c': 'C'}\n"
     ]
    }
   ],
   "source": [
    "del dict[\"a\"]\n",
    "print(dict)"
   ]
  },
  {
   "cell_type": "code",
   "execution_count": 108,
   "metadata": {},
   "outputs": [
    {
     "data": {
      "text/plain": [
       "[('d', 'D'), ('b', 'B'), ('c', 'C')]"
      ]
     },
     "execution_count": 108,
     "metadata": {},
     "output_type": "execute_result"
    }
   ],
   "source": [
    "dict = {\"d\": \"D\", \"b\":\"B\", \"c\":\"C\"}\n",
    "list(dict.items())"
   ]
  },
  {
   "cell_type": "markdown",
   "metadata": {},
   "source": [
    "<div class=\"alert alert-success\">\n",
    "<strong>EXERCISE:</strong> For each word compute the number of words in a document using a dictionary\n",
    "</div>"
   ]
  },
  {
   "cell_type": "code",
   "execution_count": null,
   "metadata": {},
   "outputs": [],
   "source": [
    "#Your code\n",
    "\n",
    "import string\n",
    "# We read the file in a string\n",
    "text = open(\"files/text.txt\",'r').read()\n",
    "text = string.lower(text)\n",
    "for ch in '!\"#$%&/()=?¿^*`+¨[]{}-:;,.':\n",
    "    text = string.replace(text, ch, ' ')\n",
    "# We build a list with all words (blank separation)\n",
    "words = string.split(text)\n",
    "\n",
    "# ADD HERE YOUR COUNTING CODE\n"
   ]
  },
  {
   "cell_type": "code",
   "execution_count": null,
   "metadata": {},
   "outputs": [],
   "source": [
    "print(counts)"
   ]
  },
  {
   "cell_type": "markdown",
   "metadata": {},
   "source": [
    "### Tuples\n",
    "\n",
    "Tuples are **non-mutable** lists:"
   ]
  },
  {
   "cell_type": "code",
   "execution_count": 109,
   "metadata": {},
   "outputs": [
    {
     "name": "stdout",
     "output_type": "stream",
     "text": [
      "<class 'tuple'> ('b', 'c')\n"
     ]
    }
   ],
   "source": [
    "tup = ('a', 'b', 'c')\n",
    "print(type(tup), tup[1:3])"
   ]
  },
  {
   "cell_type": "code",
   "execution_count": 110,
   "metadata": {},
   "outputs": [
    {
     "ename": "TypeError",
     "evalue": "'tuple' object does not support item assignment",
     "output_type": "error",
     "traceback": [
      "\u001b[1;31m---------------------------------------------------------------------------\u001b[0m",
      "\u001b[1;31mTypeError\u001b[0m                                 Traceback (most recent call last)",
      "\u001b[1;32m<ipython-input-110-e43c22bd0fba>\u001b[0m in \u001b[0;36m<module>\u001b[1;34m()\u001b[0m\n\u001b[1;32m----> 1\u001b[1;33m \u001b[0mtup\u001b[0m\u001b[1;33m[\u001b[0m\u001b[1;36m0\u001b[0m\u001b[1;33m]\u001b[0m\u001b[1;33m=\u001b[0m\u001b[1;34m'd'\u001b[0m\u001b[1;33m\u001b[0m\u001b[0m\n\u001b[0m",
      "\u001b[1;31mTypeError\u001b[0m: 'tuple' object does not support item assignment"
     ]
    }
   ],
   "source": [
    "tup[0]='d'"
   ]
  },
  {
   "cell_type": "markdown",
   "metadata": {},
   "source": [
    "**Example**: How to compute the statistics of words in a document."
   ]
  },
  {
   "cell_type": "code",
   "execution_count": 111,
   "metadata": {},
   "outputs": [
    {
     "name": "stdout",
     "output_type": "stream",
     "text": [
      "BORGES....... El Ãºltimo poema\n",
      "\n",
      "\n",
      "\n",
      "Si pudiera vivir nuevamente mi vida,\n",
      "\n",
      "en la prÃ³xima tratarÃ­a de cometer mÃ¡s errores.\n",
      "\n",
      "No intentarÃ­a ser tan perfecto, me relajarÃ­a mÃ¡s.\n",
      "\n",
      "SerÃ­a mÃ¡s tonto de lo que he sido, de hecho\n",
      "\n",
      "tomarÃ­a muy pocas cosas con seriedad.\n",
      "\n",
      "SerÃ­a menos higiÃ©nico.\n",
      "\n",
      "CorrerÃ­a mÃ¡s riesgos, harÃ­a mÃ¡s viajes,\n",
      "\n",
      "contemplarÃ­a mÃ¡s atardeceres, subirÃ­a mÃ¡s montaÃ±as, nadarÃ­a mÃ¡s rÃ­os.\n",
      "\n",
      "IrÃ­a a mÃ¡s lugares adonde nunca he ido,\n",
      "\n",
      "ComerÃ­a mÃ¡s helados y menos habas,\n",
      "\n",
      "tendrÃ­a mÃ¡s problemas reales\n",
      "\n",
      "y menos imaginarios\n",
      "\n",
      "\n",
      "\n",
      "Yo fui una de esas personas que viviÃ³ sensata y prolÃ­ficamente cada minuto de su vida;\n",
      "\n",
      "claro que tuve momentos de alegrÃ­a.\n",
      "\n",
      "Pero si pudiera volver atrÃ¡s tratarÃ­a de tener\n",
      "\n",
      "solamente buenos momentos.\n",
      "\n",
      "\n",
      "\n",
      "Por si no lo saben, de eso estÃ¡ hecha la vida, sÃ³lo de momentos;\n",
      "\n",
      "no te pierdas el ahora.\n",
      "\n",
      "Yo era uno de esos que nunca iba a ninguna parte sin un termÃ³metro, una bolsa de agua caliente, un paraguas y un paracaÃ­das;\n",
      "\n",
      "Si pudiera volver a vivir comenzarÃ­a a andar descalzo a principios de la primavera\n",
      "\n",
      "y seguirÃ­a asÃ­ hasta concluir el otoÃ±o.\n",
      "\n",
      "Y jugarÃ­a con mÃ¡s niÃ±os, si tuviera otra vez la vida por delante.\n",
      "\n",
      "pero ya ven, tengo 85 aÃ±os y sÃ© que me estoy muriendo\n",
      "\n",
      "\n",
      "\n",
      "Jorge Luis Borges\n"
     ]
    }
   ],
   "source": [
    "# We can read a file in a list of line strings or as a string\n",
    "text = open(\"files/text.txt\",'r').readlines()\n",
    "for l in text:\n",
    "    print(l,)"
   ]
  },
  {
   "cell_type": "code",
   "execution_count": 112,
   "metadata": {},
   "outputs": [
    {
     "name": "stdout",
     "output_type": "stream",
     "text": [
      "de 12 |\n",
      "mã¡s 12 |\n",
      "y   7 |\n",
      "si  5 |\n",
      "que  5 |\n",
      "a   5 |\n",
      "vida  4 |\n",
      "la  4 |\n",
      "el  3 |\n",
      "pudiera  3 |\n",
      "no  3 |\n",
      "menos  3 |\n",
      "momentos  3 |\n",
      "un  3 |\n",
      "borges  2 |\n",
      "vivir  2 |\n",
      "tratarã­a  2 |\n",
      "me  2 |\n",
      "serã­a  2 |\n",
      "lo  2 |\n",
      "he  2 |\n",
      "con  2 |\n",
      "nunca  2 |\n",
      "yo  2 |\n",
      "una  2 |\n",
      "pero  2 |\n",
      "volver  2 |\n",
      "por  2 |\n",
      "ãºltimo  1 |\n",
      "poema  1 |\n",
      "nuevamente  1 |\n",
      "mi  1 |\n",
      "en  1 |\n",
      "prã³xima  1 |\n",
      "cometer  1 |\n",
      "errores  1 |\n",
      "intentarã­a  1 |\n",
      "ser  1 |\n",
      "tan  1 |\n",
      "perfecto  1 |\n",
      "relajarã­a  1 |\n",
      "tonto  1 |\n",
      "sido  1 |\n",
      "hecho  1 |\n",
      "tomarã­a  1 |\n",
      "muy  1 |\n",
      "pocas  1 |\n",
      "cosas  1 |\n",
      "seriedad  1 |\n",
      "higiã©nico  1 |\n",
      "correrã­a  1 |\n",
      "riesgos  1 |\n",
      "harã­a  1 |\n",
      "viajes  1 |\n",
      "contemplarã­a  1 |\n",
      "atardeceres  1 |\n",
      "subirã­a  1 |\n",
      "montaã±as  1 |\n",
      "nadarã­a  1 |\n",
      "rã­os  1 |\n",
      "irã­a  1 |\n",
      "lugares  1 |\n",
      "adonde  1 |\n",
      "ido  1 |\n",
      "comerã­a  1 |\n",
      "helados  1 |\n",
      "habas  1 |\n",
      "tendrã­a  1 |\n",
      "problemas  1 |\n",
      "reales  1 |\n",
      "imaginarios  1 |\n",
      "fui  1 |\n",
      "esas  1 |\n",
      "personas  1 |\n",
      "viviã³  1 |\n",
      "sensata  1 |\n",
      "prolã­ficamente  1 |\n",
      "cada  1 |\n",
      "minuto  1 |\n",
      "su  1 |\n",
      "claro  1 |\n",
      "tuve  1 |\n",
      "alegrã­a  1 |\n",
      "atrã¡s  1 |\n",
      "tener  1 |\n",
      "solamente  1 |\n",
      "buenos  1 |\n",
      "saben  1 |\n",
      "eso  1 |\n",
      "estã¡  1 |\n",
      "hecha  1 |\n",
      "sã³lo  1 |\n",
      "te  1 |\n",
      "pierdas  1 |\n",
      "ahora  1 |\n",
      "era  1 |\n",
      "uno  1 |\n",
      "esos  1 |\n",
      "iba  1 |\n",
      "ninguna  1 |\n",
      "parte  1 |\n",
      "sin  1 |\n",
      "termã³metro  1 |\n",
      "bolsa  1 |\n",
      "agua  1 |\n",
      "caliente  1 |\n",
      "paraguas  1 |\n",
      "paracaã­das  1 |\n",
      "comenzarã­a  1 |\n",
      "andar  1 |\n",
      "descalzo  1 |\n",
      "principios  1 |\n",
      "primavera  1 |\n",
      "seguirã­a  1 |\n",
      "asã­  1 |\n",
      "hasta  1 |\n",
      "concluir  1 |\n",
      "otoã±o  1 |\n",
      "jugarã­a  1 |\n",
      "niã±os  1 |\n",
      "tuviera  1 |\n",
      "otra  1 |\n",
      "vez  1 |\n",
      "delante  1 |\n",
      "ya  1 |\n",
      "ven  1 |\n",
      "tengo  1 |\n",
      "85  1 |\n",
      "aã±os  1 |\n",
      "sã©  1 |\n",
      "estoy  1 |\n",
      "muriendo  1 |\n",
      "jorge  1 |\n",
      "luis  1 |\n"
     ]
    }
   ],
   "source": [
    "import string\n",
    "    \n",
    "# We read the file in a string\n",
    "text = open(\"files/text.txt\",'r').read()\n",
    "text = text.lower()\n",
    "for ch in '!\"#$%&/()=?¿^*`+¨[]{}-:;,.':\n",
    "    text = text.replace(ch, ' ')\n",
    "# We build a list with all words (blank separation)\n",
    "words = text.split()\n",
    "\n",
    "# We use a dictionary for counting words\n",
    "counts = {}\n",
    "for w in words:\n",
    "    try:\n",
    "        counts[w] = counts[w] + 1\n",
    "    except KeyError:\n",
    "        counts[w] = 1\n",
    "\n",
    "# We create a sorted list\n",
    "els = list(counts.items())\n",
    "els=sorted(els,key=lambda x:x[1],reverse=True)\n",
    "\n",
    "# We print the list\n",
    "for i in range(len(els)):\n",
    "    print( \"%-2s%3d\" % els[i],'|' ,)\n",
    "\n",
    "   "
   ]
  },
  {
   "cell_type": "markdown",
   "metadata": {},
   "source": [
    "### Lists (and dictionary) comprehensions\n",
    "\n",
    "Lists comprehensions are a way to fit a ``for`` loop, an ``if`` statement, and an assignment all in one line.\n",
    "\n",
    "A list comprehension consists of the following parts:\n",
    "\n",
    "+ An input sequence.\n",
    "+ A variable representing members of the input sequence.\n",
    "+ An optional expression.\n",
    "+ An output expression producing elements of the output list from members of the input sequence that satisfy the predicate."
   ]
  },
  {
   "cell_type": "code",
   "execution_count": 113,
   "metadata": {},
   "outputs": [
    {
     "name": "stdout",
     "output_type": "stream",
     "text": [
      "<class 'list'> [1, 16, 100, 4, 9]\n"
     ]
    }
   ],
   "source": [
    "num = [1, 4, -5, 10, -7, 2, 3, -1]\n",
    "squared = [ x**2 for x in num if x > 0]\n",
    "print(type(squared), squared)"
   ]
  },
  {
   "cell_type": "markdown",
   "metadata": {},
   "source": [
    "There is a downside to list comprehensions: the entire list has to be stored in memory at once. This isn’t a problem for small lists like the ones in the above examples, or even of lists several orders of magnitude larger. But we can use **<font color=\"red\">generators</font>** to solve this problem. In python 3, the default behavior of most functions is that of generators. For this reason, `range` acts as a generator as default and we have to call `list` to actually create the list.\n",
    "\n",
    "Generator expressions do not load the whole list into memory at once, but instead create a *generator object* so only one list element has to be loaded at any time.\n",
    "\n",
    "Generator expressions have the same syntax as list comprehensions, but with parentheses around the outside instead of brackets:"
   ]
  },
  {
   "cell_type": "code",
   "execution_count": 114,
   "metadata": {},
   "outputs": [
    {
     "name": "stdout",
     "output_type": "stream",
     "text": [
      "<class 'generator'> <generator object <genexpr> at 0x000001A24FF46F10>\n"
     ]
    }
   ],
   "source": [
    "num = [1, 4, -5, 10, -7, 2, 3, -1]\n",
    "squared = ( x**2 for x in num if x > 0 )\n",
    "print(type(squared), squared)"
   ]
  },
  {
   "cell_type": "markdown",
   "metadata": {},
   "source": [
    "The elements of the generator must be accessed by an iterator because they are generated when needed:"
   ]
  },
  {
   "cell_type": "code",
   "execution_count": 115,
   "metadata": {},
   "outputs": [
    {
     "name": "stdout",
     "output_type": "stream",
     "text": [
      "1\n",
      "16\n",
      "100\n",
      "4\n",
      "9\n",
      "[1, 16, 100, 4, 9]\n"
     ]
    }
   ],
   "source": [
    "num = [1, 4, -5, 10, -7, 2, 3, -1]\n",
    "squared = ( x**2 for x in num if x > 0 )\n",
    "lis = []\n",
    "for i in list(squared):\n",
    "    print(i)\n",
    "    lis = lis + [i]\n",
    "print(lis)"
   ]
  },
  {
   "cell_type": "markdown",
   "metadata": {},
   "source": [
    "We can define our own generators with the ``yield`` statesment. For example, let's build a generator for the binary representation of a number between 0 and 1 with arbitrary precision."
   ]
  },
  {
   "cell_type": "code",
   "execution_count": 116,
   "metadata": {},
   "outputs": [
    {
     "name": "stdout",
     "output_type": "stream",
     "text": [
      ".0101010101\n"
     ]
    }
   ],
   "source": [
    "# binary representation of a number between 0 and 1 (b bits precision).\n",
    "\n",
    "def res(n,b):\n",
    "    bin_a = '.'\n",
    "    for i in range(b):\n",
    "        n *= 2\n",
    "        bin_a +=  str(int(n))\n",
    "        n = n % 1\n",
    "    return bin_a\n",
    "\n",
    "print(res(1/3.0,10))"
   ]
  },
  {
   "cell_type": "code",
   "execution_count": 117,
   "metadata": {},
   "outputs": [
    {
     "name": "stdout",
     "output_type": "stream",
     "text": [
      ".01010101010101010101010101010101010101010101010101\n"
     ]
    }
   ],
   "source": [
    "# binary representation of a number between 0 and 1 (precision as needed).\n",
    "\n",
    "def binRep(n):\n",
    "    while True:\n",
    "        n *= 2\n",
    "        yield int(n)\n",
    "        n = n % 1\n",
    "\n",
    "a = binRep(1/3.) \n",
    "a_bin = '.'\n",
    "for i in range(50):\n",
    "    a_bin +=  str(next(a))\n",
    "print(a_bin)"
   ]
  },
  {
   "cell_type": "markdown",
   "metadata": {},
   "source": [
    "** Exercise **\n",
    "\n",
    "+ Write a function with two parameters <code>a</code> and <code>b</code>, to compute the final amount we get if we deposite 1000€ during <code>a</code> years in a bank account with an interest rate of <code>b</code> per cent.\n",
    "+ What is the result for ``a``=10, ``b``=10"
   ]
  },
  {
   "cell_type": "code",
   "execution_count": 118,
   "metadata": {},
   "outputs": [],
   "source": [
    "def interest_rate(a, b):\n",
    "    return 1000*((1+b/100) ** a)"
   ]
  },
  {
   "cell_type": "code",
   "execution_count": 119,
   "metadata": {},
   "outputs": [
    {
     "data": {
      "text/plain": [
       "2593.7424601000025"
      ]
     },
     "execution_count": 119,
     "metadata": {},
     "output_type": "execute_result"
    }
   ],
   "source": [
    "interest_rate(10, 10)"
   ]
  },
  {
   "cell_type": "markdown",
   "metadata": {},
   "source": [
    "**Exercise**\n",
    "\n",
    "+ Write a function with one parameter <code>a</code>, to compute the minimum period we need to double the amount in an account with an interest rate of <code>a</code> per cent.\n",
    "+ What is the result for ``a``=3?"
   ]
  },
  {
   "cell_type": "code",
   "execution_count": null,
   "metadata": {},
   "outputs": [],
   "source": [
    "# Your solution here\n",
    "def years_needed(a):\n",
    "    "
   ]
  },
  {
   "cell_type": "markdown",
   "metadata": {},
   "source": [
    "### Objects\n",
    "\n",
    "You can define your own classes and objects."
   ]
  },
  {
   "cell_type": "code",
   "execution_count": null,
   "metadata": {},
   "outputs": [],
   "source": [
    "#creating a class\n",
    "\n",
    "class Rectangle:\n",
    "    def __init__(self,x,y):\n",
    "        self.x = x\n",
    "        self.y = y\n",
    "    description = \"This shape has not been described yet\"\n",
    "    author = \"Nobody has claimed to make this shape yet\"\n",
    "    def area(self):\n",
    "        return self.x * self.y\n",
    "    def perimeter(self):\n",
    "        return 2 * self.x + 2 * self.y\n",
    "    def describe(self,text):\n",
    "        self.description = text\n",
    "    def authorName(self,text):\n",
    "        self.author = text\n",
    "    def scaleSize(self,scale):\n",
    "        self.x = self.x * scale\n",
    "        self.y = self.y * scale\n",
    "\n",
    "#creating objects\n",
    "a = Rectangle(100, 45)\n",
    "b = Rectangle(10,230)\n",
    "\n",
    "#describing the rectangles\n",
    "a.describe(\"A fat rectangle\")\n",
    "b.describe(\"A thin rectangle\")"
   ]
  },
  {
   "cell_type": "code",
   "execution_count": null,
   "metadata": {},
   "outputs": [],
   "source": [
    "#finding the area of your rectangle:\n",
    "print(a.area())\n",
    " \n",
    "#finding the perimeter of your rectangle:\n",
    "print(a.perimeter())\n",
    "\n",
    "#getting the description\n",
    "print(a.description)\n",
    "print(a.author)"
   ]
  },
  {
   "cell_type": "code",
   "execution_count": null,
   "metadata": {},
   "outputs": [],
   "source": [
    "#finding the area of your rectangle:\n",
    "print(b.area())\n",
    "print(b.description)\n",
    "\n",
    "#making the rectangle 50% smaller\n",
    "b.scaleSize(0.5)\n",
    "b.describe(\"A small thin rectangle\")\n",
    " \n",
    "#re-printing the new area of the rectangle\n",
    "print(b.area())\n",
    "print(b.description)"
   ]
  },
  {
   "cell_type": "markdown",
   "metadata": {},
   "source": [
    "# A basic CSV reader"
   ]
  },
  {
   "cell_type": "markdown",
   "metadata": {},
   "source": [
    "In this exercise we will build a simple CSV (\"Comma separated values\") reader. CSV files are some of the most typical file types we will find for storing data. This is a simple format where data is stored raw separated by some `separator`, usually a comma. \n",
    "\n",
    "We will separate this exercise in different intermediate goals:\n",
    "\n",
    " 1. Create a function `read_csv` that receives a filename as argument and returns a list of lists storing each element separated by commas from the original file. Each list of elements stored corresponds to one line in the original file.\n",
    " \n",
    " 2. Create a function that checks if a string is a number/float or not.\n",
    " \n",
    " 3. Modify the function `read_csv` so that we store each element according to its type.\n",
    " \n",
    " 4. Deal with the header adding a `hasHeader` parameter to the function.\n",
    " \n",
    " 5. Usually one of the \"columns\" represents the variable to predict. Thus we need to be able to extract this column. Build a function that returns all elements corresponding to a given feature passed as a the number of the column feature.\n",
    "     \n",
    " 6. Encapsulate the functions in an class.\n",
    " \n",
    " "
   ]
  },
  {
   "cell_type": "markdown",
   "metadata": {},
   "source": [
    "**STEP 1:** Create a function `read_csv` that receives a filename as argument and returns a list of lists storing each element separated by commas from the original file. Each list of elements stored corresponds to one line in the original file."
   ]
  },
  {
   "cell_type": "code",
   "execution_count": null,
   "metadata": {},
   "outputs": [],
   "source": [
    "#Your code here\n",
    "def read_csv(filename):\n",
    "    pass #Replace this line with the appropriate code"
   ]
  },
  {
   "cell_type": "markdown",
   "metadata": {},
   "source": [
    "Check your code with `baseball.csv` data."
   ]
  },
  {
   "cell_type": "code",
   "execution_count": null,
   "metadata": {
    "scrolled": true
   },
   "outputs": [],
   "source": [
    "d = read_csv('./files/baseball.csv')\n",
    "print(d)"
   ]
  },
  {
   "cell_type": "markdown",
   "metadata": {},
   "source": [
    "**STEP 2:** Create a function that checks if a string is a number/float or not."
   ]
  },
  {
   "cell_type": "code",
   "execution_count": null,
   "metadata": {},
   "outputs": [],
   "source": [
    "#Your code\n",
    "\n",
    "def is_number(s):\n",
    "    pass"
   ]
  },
  {
   "cell_type": "markdown",
   "metadata": {},
   "source": [
    "**STEP 3:** Modify the function `read_csv` so that we store each element according to its type."
   ]
  },
  {
   "cell_type": "code",
   "execution_count": null,
   "metadata": {},
   "outputs": [],
   "source": [
    "#Your code"
   ]
  },
  {
   "cell_type": "markdown",
   "metadata": {},
   "source": [
    "**STEP 4:** Deal with the header adding a `hasHeader` parameter to the function.\n"
   ]
  },
  {
   "cell_type": "code",
   "execution_count": null,
   "metadata": {},
   "outputs": [],
   "source": [
    "#Your code"
   ]
  },
  {
   "cell_type": "markdown",
   "metadata": {},
   "source": [
    "**STEP 5:** Usually one of the \"columns\" represents the variable to predict. Thus we need to be able to extract this column. Build a function that returns all elements corresponding to a given feature."
   ]
  },
  {
   "cell_type": "code",
   "execution_count": null,
   "metadata": {},
   "outputs": [],
   "source": [
    "#Your code"
   ]
  },
  {
   "cell_type": "markdown",
   "metadata": {},
   "source": [
    "**HINT:** Use list comprehension."
   ]
  },
  {
   "cell_type": "markdown",
   "metadata": {},
   "source": [
    "As we will see next week, a list of lists is not the best data structure to operate with numerical data. "
   ]
  },
  {
   "cell_type": "code",
   "execution_count": null,
   "metadata": {
    "scrolled": true
   },
   "outputs": [],
   "source": [
    "extract_column(d,3)"
   ]
  },
  {
   "cell_type": "markdown",
   "metadata": {},
   "source": [
    "**STEP 6:** Encapsulate the former exercises into one class according to the following prototype. Replace the `pass` statement with the corresponding codes."
   ]
  },
  {
   "cell_type": "code",
   "execution_count": null,
   "metadata": {},
   "outputs": [],
   "source": [
    "import numpy as np\n",
    "class DataList(object):\n",
    "    def __DataList__(self, datalist = []):\n",
    "        self.data = datalist\n",
    "        pass\n",
    "    def read_csv(self):\n",
    "        pass\n",
    "    def get_column(self):\n",
    "        pass\n",
    "    def get_values(self):\n",
    "        return np.array(self.data)\n"
   ]
  },
  {
   "cell_type": "markdown",
   "metadata": {},
   "source": [
    "**TRY THIS TO CHECK IF IT WORKS:**"
   ]
  },
  {
   "cell_type": "code",
   "execution_count": null,
   "metadata": {},
   "outputs": [],
   "source": [
    "#Try this to check\n",
    "import datalist as DataList\n",
    "dl = DataList.DataList()\n",
    "dl.read_csv('./files/churn_curated_numerical.csv',hasHeader = False)\n",
    "\n",
    "\n",
    "assert dl.get_column(0)[0] == 128.0, 'ERROR, the value should be 128.0'\n",
    "assert dl.get_values().shape == (3333, 19), 'ERROR, the shape of the ndarray should be (3333, 19)'\n"
   ]
  },
  {
   "cell_type": "code",
   "execution_count": null,
   "metadata": {},
   "outputs": [],
   "source": []
  }
 ],
 "metadata": {
  "kernelspec": {
   "display_name": "Python 3",
   "language": "python",
   "name": "python3"
  },
  "language_info": {
   "codemirror_mode": {
    "name": "ipython",
    "version": 3
   },
   "file_extension": ".py",
   "mimetype": "text/x-python",
   "name": "python",
   "nbconvert_exporter": "python",
   "pygments_lexer": "ipython3",
   "version": "3.6.5"
  }
 },
 "nbformat": 4,
 "nbformat_minor": 1
}
